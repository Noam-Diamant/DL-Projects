{
 "cells": [
  {
   "cell_type": "markdown",
   "metadata": {},
   "source": [
    "import part"
   ]
  },
  {
   "cell_type": "code",
   "execution_count": 4,
   "metadata": {},
   "outputs": [],
   "source": [
    "import numpy as np\n",
    "import pandas as pd"
   ]
  },
  {
   "cell_type": "markdown",
   "metadata": {},
   "source": [
    "Single-line loops (list comprehension)"
   ]
  },
  {
   "cell_type": "code",
   "execution_count": 5,
   "metadata": {},
   "outputs": [
    {
     "data": {
      "text/plain": [
       "[0, 'Odd', 2, 'Odd', 4, 'Odd', 6, 'Odd', 8, 'Odd']"
      ]
     },
     "execution_count": 5,
     "metadata": {},
     "output_type": "execute_result"
    }
   ],
   "source": [
    "newlist = [i if i%2 == 0 else 'Odd' for i in range(10)]\n",
    "newlist"
   ]
  },
  {
   "cell_type": "code",
   "execution_count": 6,
   "metadata": {},
   "outputs": [
    {
     "name": "stdout",
     "output_type": "stream",
     "text": [
      "[-3.0, -2.4, -1.7999999999999998, -1.2, -0.6, 0.0, 0.6, 1.2, 1.7999999999999998, 2.4, 3.0]\n",
      "[9.0, 5.76, 3.2399999999999993, 1.44, 0.36, 0.0, 0.36, 1.44, 3.2399999999999993, 5.76, 9.0]\n"
     ]
    }
   ],
   "source": [
    "x1 = [i/(5/3) for i in range(-5,6)]\n",
    "print(x1)\n",
    "print([ i**2 for i in x1 ])"
   ]
  },
  {
   "cell_type": "markdown",
   "metadata": {},
   "source": [
    "Broadcasting in numpy"
   ]
  },
  {
   "cell_type": "code",
   "execution_count": 14,
   "metadata": {},
   "outputs": [
    {
     "name": "stdout",
     "output_type": "stream",
     "text": [
      "[0, 1, 2, 3, 4, 5, 6, 7, 8]\n",
      " \n",
      "[[0 1 2]\n",
      " [3 4 5]\n",
      " [6 7 8]]\n",
      " \n",
      "[[0 1 2]\n",
      " [3 4 5]\n",
      " [6 7 8]\n",
      " [0 1 2]\n",
      " [3 4 5]\n",
      " [6 7 8]\n",
      " [0 1 2]\n",
      " [3 4 5]\n",
      " [6 7 8]]\n",
      " \n",
      "[[ 0  0  0]\n",
      " [ 3  4  5]\n",
      " [12 14 16]\n",
      " [ 0  3  6]\n",
      " [12 16 20]\n",
      " [30 35 40]\n",
      " [ 0  6 12]\n",
      " [21 28 35]\n",
      " [48 56 64]]\n",
      " \n"
     ]
    }
   ],
   "source": [
    "v = [i for i in range(0,9)]\n",
    "print(v)\n",
    "print(' ')\n",
    "M = np.reshape(v,(3,3))\n",
    "print(M)\n",
    "print(' ')\n",
    "C = np.tile(M, (3,1))\n",
    "print(C), print(' ')\n",
    "B = C*np.reshape(v, (len(v),1))\n",
    "print(B)\n",
    "print(' ')"
   ]
  }
 ],
 "metadata": {
  "kernelspec": {
   "display_name": "Python 3",
   "language": "python",
   "name": "python3"
  },
  "language_info": {
   "codemirror_mode": {
    "name": "ipython",
    "version": 3
   },
   "file_extension": ".py",
   "mimetype": "text/x-python",
   "name": "python",
   "nbconvert_exporter": "python",
   "pygments_lexer": "ipython3",
   "version": "3.12.0"
  },
  "orig_nbformat": 4
 },
 "nbformat": 4,
 "nbformat_minor": 2
}
