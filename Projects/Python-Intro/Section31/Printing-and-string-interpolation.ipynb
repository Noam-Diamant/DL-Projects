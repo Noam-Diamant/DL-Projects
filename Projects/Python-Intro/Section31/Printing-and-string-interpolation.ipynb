{
 "cells": [
  {
   "cell_type": "code",
   "execution_count": 17,
   "metadata": {},
   "outputs": [],
   "source": [
    "import numpy as np\n",
    "import pandas as pd"
   ]
  },
  {
   "cell_type": "code",
   "execution_count": 19,
   "metadata": {},
   "outputs": [
    {
     "name": "stdout",
     "output_type": "stream",
     "text": [
      "a is the 1st letter in the alphabet.\n",
      "b is the 2nd letter in the alphabet.\n",
      "c is the 3rd letter in the alphabet.\n",
      "d is the 4th letter in the alphabet.\n",
      "e is the 5th letter in the alphabet.\n",
      "f is the 6th letter in the alphabet.\n",
      "g is the 7th letter in the alphabet.\n",
      "h is the 8th letter in the alphabet.\n",
      "i is the 9th letter in the alphabet.\n",
      "j is the 10th letter in the alphabet.\n",
      "k is the 11th letter in the alphabet.\n",
      "l is the 12th letter in the alphabet.\n",
      "m is the 13th letter in the alphabet.\n",
      "n is the 14th letter in the alphabet.\n",
      "o is the 15th letter in the alphabet.\n",
      "p is the 16th letter in the alphabet.\n",
      "q is the 17th letter in the alphabet.\n",
      "r is the 18th letter in the alphabet.\n",
      "s is the 19th letter in the alphabet.\n",
      "t is the 20th letter in the alphabet.\n",
      "u is the 21st letter in the alphabet.\n",
      "v is the 22nd letter in the alphabet.\n",
      "w is the 23rd letter in the alphabet.\n",
      "x is the 24th letter in the alphabet.\n",
      "y is the 25th letter in the alphabet.\n",
      "z is the 26th letter in the alphabet.\n"
     ]
    }
   ],
   "source": [
    "import string\n",
    "ltrs = string.ascii_lowercase\n",
    "for i in range(len(ltrs)):\n",
    "    if i == 0 or i == 20:\n",
    "        print(f'{ltrs[i]} is the {i+1}st letter in the alphabet.')\n",
    "    elif i == 1 or i == 21:\n",
    "        print(f'{ltrs[i]} is the {i+1}nd letter in the alphabet.')\n",
    "    elif i == 2 or i == 22:\n",
    "        print(f'{ltrs[i]} is the {i+1}rd letter in the alphabet.')\n",
    "    else:\n",
    "        print(f'{ltrs[i]} is the {i+1}th letter in the alphabet.')\n"
   ]
  }
 ],
 "metadata": {
  "kernelspec": {
   "display_name": "Python 3",
   "language": "python",
   "name": "python3"
  },
  "language_info": {
   "name": "python",
   "version": "3.9.7"
  }
 },
 "nbformat": 4,
 "nbformat_minor": 2
}
